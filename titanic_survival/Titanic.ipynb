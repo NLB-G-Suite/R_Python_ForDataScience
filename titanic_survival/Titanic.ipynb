{
 "cells": [
  {
   "cell_type": "markdown",
   "metadata": {},
   "source": [
    "# Predicting Titanic Survival \n",
    "\n",
    "This python notebook was created for practing and learning purposes. At this moment, I'm not intended in competing at Kaggle. \n",
    "\n",
    "More inforation about the dataset, refer to Kaggle Titanic competition available at: https://www.kaggle.com/c/titanic\n",
    "\n",
    "The train and test data are provided in separate files.\n",
    "\n",
    "So, let's start practicing and learning."
   ]
  },
  {
   "cell_type": "code",
   "execution_count": 1,
   "metadata": {
    "collapsed": false
   },
   "outputs": [
    {
     "name": "stdout",
     "output_type": "stream",
     "text": [
      "   PassengerId  Survived  Pclass  \\\n",
      "0            1         0       3   \n",
      "1            2         1       1   \n",
      "2            3         1       3   \n",
      "3            4         1       1   \n",
      "4            5         0       3   \n",
      "\n",
      "                                                Name     Sex   Age  SibSp  \\\n",
      "0                            Braund, Mr. Owen Harris    male  22.0      1   \n",
      "1  Cumings, Mrs. John Bradley (Florence Briggs Th...  female  38.0      1   \n",
      "2                             Heikkinen, Miss. Laina  female  26.0      0   \n",
      "3       Futrelle, Mrs. Jacques Heath (Lily May Peel)  female  35.0      1   \n",
      "4                           Allen, Mr. William Henry    male  35.0      0   \n",
      "\n",
      "   Parch            Ticket     Fare Cabin Embarked  \n",
      "0      0         A/5 21171   7.2500   NaN        S  \n",
      "1      0          PC 17599  71.2833   C85        C  \n",
      "2      0  STON/O2. 3101282   7.9250   NaN        S  \n",
      "3      0            113803  53.1000  C123        S  \n",
      "4      0            373450   8.0500   NaN        S  \n",
      "       PassengerId    Survived      Pclass         Age       SibSp  \\\n",
      "count   891.000000  891.000000  891.000000  714.000000  891.000000   \n",
      "mean    446.000000    0.383838    2.308642   29.699118    0.523008   \n",
      "std     257.353842    0.486592    0.836071   14.526497    1.102743   \n",
      "min       1.000000    0.000000    1.000000    0.420000    0.000000   \n",
      "25%     223.500000    0.000000    2.000000   20.125000    0.000000   \n",
      "50%     446.000000    0.000000    3.000000   28.000000    0.000000   \n",
      "75%     668.500000    1.000000    3.000000   38.000000    1.000000   \n",
      "max     891.000000    1.000000    3.000000   80.000000    8.000000   \n",
      "\n",
      "            Parch        Fare  \n",
      "count  891.000000  891.000000  \n",
      "mean     0.381594   32.204208  \n",
      "std      0.806057   49.693429  \n",
      "min      0.000000    0.000000  \n",
      "25%      0.000000    7.910400  \n",
      "50%      0.000000   14.454200  \n",
      "75%      0.000000   31.000000  \n",
      "max      6.000000  512.329200  \n"
     ]
    }
   ],
   "source": [
    "import pandas as pd\n",
    "import matplotlib.pyplot as plt\n",
    "\n",
    "titanic = pd.read_csv(\"train.csv\")\n",
    "titanic_test = pd.read_csv(\"test.csv\")\n",
    "\n",
    "print(titanic.head(5))\n",
    "\n",
    "print(titanic.describe())"
   ]
  },
  {
   "cell_type": "markdown",
   "metadata": {},
   "source": [
    "** There are several passengers without age in the dataset. ** Let's take a look at the age distribution."
   ]
  },
  {
   "cell_type": "code",
   "execution_count": 2,
   "metadata": {
    "collapsed": false
   },
   "outputs": [
    {
     "data": {
      "image/png": "[encoded data removed]",
      "text/plain": [
       "<matplotlib.figure.Figure at 0x228a3ea8a20>"
      ]
     },
     "metadata": {},
     "output_type": "display_data"
    }
   ],
   "source": [
    "%matplotlib inline\n",
    "#checking the shape of age distribution\n",
    "age_series= titanic[\"Age\"].dropna()\n",
    "\n",
    "import matplotlib.pyplot as plt\n",
    "\n",
    "plt.hist(age_series)\n",
    "plt.show()\n"
   ]
  },
  {
   "cell_type": "markdown",
   "metadata": {},
   "source": [
    "It's right-skewed. Let's fill NA with median. Later, after submiting the first solutrion to Kaggle we'll try to figure out a better way to fill those missing ages. "
   ]
  },
  {
   "cell_type": "code",
   "execution_count": 3,
   "metadata": {
    "collapsed": true
   },
   "outputs": [],
   "source": [
    "titanic[\"Age\"] = titanic[\"Age\"].fillna(titanic[\"Age\"].median())"
   ]
  },
  {
   "cell_type": "markdown",
   "metadata": {},
   "source": [
    "Now let's see the shape of the age distributrion after filling missing values with the median."
   ]
  },
  {
   "cell_type": "code",
   "execution_count": 4,
   "metadata": {
    "collapsed": false
   },
   "outputs": [
    {
     "data": {
      "image/png": "[encoded data removed]",
      "text/plain": [
       "<matplotlib.figure.Figure at 0x228a124d390>"
      ]
     },
     "metadata": {},
     "output_type": "display_data"
    }
   ],
   "source": [
    "plt.hist(titanic[\"Age\"])\n",
    "plt.show()"
   ]
  },
  {
   "cell_type": "markdown",
   "metadata": {},
   "source": [
    "I'm not quite satisfied with this workaround, but for now this is what we're going to have for the age distribution. Later on, after finishing this first iteration, we can come back and improve those missing values adopting a different strategy (for instance, fitting a linear regression model to predict and replace missing values). "
   ]
  },
  {
   "cell_type": "markdown",
   "metadata": {},
   "source": [
    "** Now, let's transform the non-numeric variables **\n",
    "\n",
    "1) Sex\n",
    "\n",
    "2) Embarked"
   ]
  },
  {
   "cell_type": "code",
   "execution_count": 5,
   "metadata": {
    "collapsed": false
   },
   "outputs": [
    {
     "name": "stdout",
     "output_type": "stream",
     "text": [
      "['male' 'female']\n"
     ]
    }
   ],
   "source": [
    "print(titanic[\"Sex\"].unique())"
   ]
  },
  {
   "cell_type": "markdown",
   "metadata": {},
   "source": [
    "Replacing all the occurences of 'male' with the number 0 and 'female' with the number 1."
   ]
  },
  {
   "cell_type": "code",
   "execution_count": 6,
   "metadata": {
    "collapsed": false
   },
   "outputs": [
    {
     "name": "stdout",
     "output_type": "stream",
     "text": [
      "0    577\n",
      "1    314\n",
      "Name: Sex, dtype: int64\n"
     ]
    }
   ],
   "source": [
    "titanic.loc[titanic[\"Sex\"] == \"male\", \"Sex\"] = 0\n",
    "titanic.loc[titanic[\"Sex\"] == \"female\", \"Sex\"] = 1\n",
    "\n",
    "print(titanic[\"Sex\"].value_counts(dropna=False))"
   ]
  },
  {
   "cell_type": "markdown",
   "metadata": {},
   "source": [
    "Many more men than women boarded the ship."
   ]
  },
  {
   "cell_type": "code",
   "execution_count": 7,
   "metadata": {
    "collapsed": false
   },
   "outputs": [
    {
     "name": "stdout",
     "output_type": "stream",
     "text": [
      "S      644\n",
      "C      168\n",
      "Q       77\n",
      "NaN      2\n",
      "Name: Embarked, dtype: int64\n"
     ]
    }
   ],
   "source": [
    "print(titanic[\"Embarked\"].value_counts(dropna=False))\n"
   ]
  },
  {
   "cell_type": "markdown",
   "metadata": {},
   "source": [
    "There are just two NAs. So, we can replace them with the most common port name, which is represented by the letter 'S'.\n",
    "\n",
    "Btw, here is the map: (C = Cherbourg; Q = Queenstown; S = Southampton)\n"
   ]
  },
  {
   "cell_type": "code",
   "execution_count": 9,
   "metadata": {
    "collapsed": true
   },
   "outputs": [],
   "source": [
    "titanic[\"Embarked\"] = titanic[\"Embarked\"].fillna(\"S\")\n"
   ]
  },
  {
   "cell_type": "markdown",
   "metadata": {},
   "source": [
    "Now, we replace S with 0, C with 1, and Q with 2. This is not ideal, because there's no order among the ports (for instance, 2 doesn't mean higher than 1), but for now this is enough for the first iteration in order to predict passenger survival.\n",
    "\n",
    "If we find that the port is an important feature, we can give more attention on that \"Embarked\" column and maybe put more effort on translating them into better values or even spliting the dataset into categories based on the ports."
   ]
  },
  {
   "cell_type": "code",
   "execution_count": 10,
   "metadata": {
    "collapsed": true
   },
   "outputs": [],
   "source": [
    "titanic.loc[titanic[\"Embarked\"] == \"S\", \"Embarked\"] = 0\n",
    "titanic.loc[titanic[\"Embarked\"] == \"C\", \"Embarked\"] = 1\n",
    "titanic.loc[titanic[\"Embarked\"] == \"Q\", \"Embarked\"] = 2"
   ]
  },
  {
   "cell_type": "markdown",
   "metadata": {},
   "source": [
    "Apparently, we're done with the training data.\n",
    "\n",
    "** So, let's prepare the testing data in a similar way **"
   ]
  },
  {
   "cell_type": "code",
   "execution_count": 11,
   "metadata": {
    "collapsed": true
   },
   "outputs": [],
   "source": [
    "titanic_test[\"Age\"] = titanic_test[\"Age\"].fillna(titanic[\"Age\"].median())\n",
    "\n",
    "titanic_test[\"Fare\"] = titanic_test[\"Fare\"].fillna(titanic_test[\"Fare\"].median())\n",
    "\n",
    "titanic_test.loc[titanic_test[\"Sex\"] == \"male\", \"Sex\"] = 0 \n",
    "titanic_test.loc[titanic_test[\"Sex\"] == \"female\", \"Sex\"] = 1\n",
    "\n",
    "titanic_test[\"Embarked\"] = titanic_test[\"Embarked\"].fillna(\"S\")\n",
    "titanic_test.loc[titanic_test[\"Embarked\"] == \"S\", \"Embarked\"] = 0\n",
    "titanic_test.loc[titanic_test[\"Embarked\"] == \"C\", \"Embarked\"] = 1\n",
    "titanic_test.loc[titanic_test[\"Embarked\"] == \"Q\", \"Embarked\"] = 2"
   ]
  },
  {
   "cell_type": "markdown",
   "metadata": {},
   "source": [
    "Note that there wasn't necessary to replace missing values for the 'Fare' column in the training data. However, we found missing values in the Fare column of the testing dataset."
   ]
  },
  {
   "cell_type": "markdown",
   "metadata": {},
   "source": [
    "### Let's start fiting our predictive models\n",
    "\n",
    "First, we'll try three classifiers: Logistic Regression, Decision Tree, and Random Forest (which is actually an ensembled method)."
   ]
  },
  {
   "cell_type": "code",
   "execution_count": 13,
   "metadata": {
    "collapsed": false
   },
   "outputs": [
    {
     "name": "stdout",
     "output_type": "stream",
     "text": [
      "Logistic Regression accuracy score: 0.695847362514\n",
      "Decision tree accuracy score: 0.690235690236\n",
      "Random forest accuracy score: 0.725028058361\n"
     ]
    }
   ],
   "source": [
    "from sklearn.linear_model import LogisticRegression\n",
    "from sklearn import tree\n",
    "from sklearn.ensemble import RandomForestClassifier\n",
    "from sklearn import cross_validation\n",
    "\n",
    "#definig the predictor variables (input variables)\n",
    "predictors = [\"Pclass\",\"Age\",\"SibSp\",\"Parch\",\"Fare\",\"Embarked\"]\n",
    "\n",
    "clf1 = LogisticRegression(random_state=1, C=1)\n",
    "clf2 = tree.DecisionTreeClassifier(min_samples_split=50)\n",
    "# Initialize our algorithm with the default paramters\n",
    "# n_estimators is the number of trees we want to make\n",
    "# min_samples_split is the minimum number of rows we need to make a split\n",
    "# min_samples_leaf is the minimum number of samples we can have at the place where a tree branch ends (the bottom points of the tree)\n",
    "clf3 = RandomForestClassifier(random_state=1, n_estimators=100, min_samples_split=10, min_samples_leaf=5)\n",
    "\n",
    "kf = cross_validation.KFold(titanic.shape[0], n_folds=3, random_state=1)\n",
    "\n",
    "scores = cross_validation.cross_val_score(clf1, titanic[predictors], titanic[\"Survived\"], cv=kf)\n",
    "print(\"Logistic Regression accuracy score:\",scores.mean())\n",
    "\n",
    "scores = cross_validation.cross_val_score(clf2, titanic[predictors], titanic[\"Survived\"], cv=kf)\n",
    "print(\"Decision tree accuracy score:\",scores.mean())\n",
    "\n",
    "scores = cross_validation.cross_val_score(clf3, titanic[predictors], titanic[\"Survived\"], cv=kf)\n",
    "print(\"Random forest accuracy score:\",scores.mean())"
   ]
  },
  {
   "cell_type": "markdown",
   "metadata": {},
   "source": [
    "Fairly good for the beginning. Let's try something to improve. "
   ]
  },
  {
   "cell_type": "code",
   "execution_count": 14,
   "metadata": {
    "collapsed": false
   },
   "outputs": [
    {
     "name": "stdout",
     "output_type": "stream",
     "text": [
      "Logistic Regression accuracy score: 0.695847362514\n",
      "Decision tree accuracy score: 0.672278338945\n",
      "Random forest accuracy score: 0.713804713805\n"
     ]
    }
   ],
   "source": [
    "# Generating a familysize column. Wandering whether or not the size of the family affect the chances to survive\n",
    "titanic[\"FamilySize\"] = titanic[\"SibSp\"] + titanic[\"Parch\"]\n",
    "\n",
    "predictors = [\"Pclass\",\"Age\",\"SibSp\",\"Parch\",\"Fare\",\"Embarked\", \"FamilySize\"]\n",
    "\n",
    "clf1 = LogisticRegression(random_state=1, C=1)\n",
    "clf2 = tree.DecisionTreeClassifier(min_samples_split=20)\n",
    "# Initialize our algorithm with the default paramters\n",
    "# n_estimators is the number of trees we want to make\n",
    "# min_samples_split is the minimum number of rows we need to make a split\n",
    "# min_samples_leaf is the minimum number of samples we can have at the place where a tree branch ends (the bottom points of the tree)\n",
    "clf3 = RandomForestClassifier(random_state=1, n_estimators=100, min_samples_split=20, min_samples_leaf=10)\n",
    "\n",
    "kf = cross_validation.KFold(titanic.shape[0], n_folds=3, random_state=1)\n",
    "\n",
    "scores = cross_validation.cross_val_score(clf1, titanic[predictors], titanic[\"Survived\"], cv=kf)\n",
    "print(\"Logistic Regression accuracy score:\",scores.mean())\n",
    "\n",
    "scores = cross_validation.cross_val_score(clf2, titanic[predictors], titanic[\"Survived\"], cv=kf)\n",
    "print(\"Decision tree accuracy score:\",scores.mean())\n",
    "\n",
    "scores = cross_validation.cross_val_score(clf3, titanic[predictors], titanic[\"Survived\"], cv=kf)\n",
    "print(\"Random forest accuracy score:\",scores.mean())"
   ]
  },
  {
   "cell_type": "markdown",
   "metadata": {},
   "source": [
    "No improvements in the quality of the model."
   ]
  },
  {
   "cell_type": "code",
   "execution_count": 15,
   "metadata": {
    "collapsed": true
   },
   "outputs": [],
   "source": [
    "# Generating the name length column. Is there any relation between name length and chances to survive? Does it improve the model?\n",
    "titanic[\"NameLength\"] = titanic[\"Name\"].apply(lambda x: len(x))"
   ]
  },
  {
   "cell_type": "code",
   "execution_count": 18,
   "metadata": {
    "collapsed": false
   },
   "outputs": [
    {
     "name": "stdout",
     "output_type": "stream",
     "text": [
      "Logistic Regression accuracy score: 0.750841750842\n",
      "Decision tree accuracy score: 0.726150392817\n",
      "Random forest accuracy score: 0.754208754209\n"
     ]
    }
   ],
   "source": [
    "predictors = [\"Pclass\",\"Age\",\"SibSp\",\"Parch\",\"Fare\",\"Embarked\",\"NameLength\"]\n",
    "\n",
    "clf1 = LogisticRegression(random_state=1, C=1)\n",
    "clf2 = tree.DecisionTreeClassifier(min_samples_split=20)\n",
    "# Initialize our algorithm with the default paramters\n",
    "# n_estimators is the number of trees we want to make\n",
    "# min_samples_split is the minimum number of rows we need to make a split\n",
    "# min_samples_leaf is the minimum number of samples we can have at the place where a tree branch ends (the bottom points of the tree)\n",
    "clf3 = RandomForestClassifier(random_state=1, n_estimators=100, min_samples_split=20, min_samples_leaf=10)\n",
    "\n",
    "kf = cross_validation.KFold(titanic.shape[0], n_folds=3, random_state=1)\n",
    "\n",
    "scores = cross_validation.cross_val_score(clf1, titanic[predictors], titanic[\"Survived\"], cv=kf)\n",
    "print(\"Logistic Regression accuracy score:\",scores.mean())\n",
    "\n",
    "scores = cross_validation.cross_val_score(clf2, titanic[predictors], titanic[\"Survived\"], cv=kf)\n",
    "print(\"Decision tree accuracy score:\",scores.mean())\n",
    "\n",
    "scores = cross_validation.cross_val_score(clf3, titanic[predictors], titanic[\"Survived\"], cv=kf)\n",
    "print(\"Random forest accuracy score:\",scores.mean())"
   ]
  },
  {
   "cell_type": "markdown",
   "metadata": {},
   "source": [
    "We noticed a small improvement.\n",
    "\n",
    "Let's see how SVM and Naive Bayes perform with this context."
   ]
  },
  {
   "cell_type": "code",
   "execution_count": 19,
   "metadata": {
    "collapsed": false
   },
   "outputs": [
    {
     "name": "stdout",
     "output_type": "stream",
     "text": [
      "Naive Bayes score: 0.709315375982\n",
      "SVM accuracy score: 0.630751964085\n"
     ]
    }
   ],
   "source": [
    "from sklearn.naive_bayes import GaussianNB\n",
    "from sklearn.svm import SVC\n",
    "\n",
    "clf4 = GaussianNB()\n",
    "clf5 = SVC(kernel = \"rbf\", C=1)\n",
    "\n",
    "scores = cross_validation.cross_val_score(clf4, titanic[predictors], titanic[\"Survived\"], cv=kf)\n",
    "print(\"Naive Bayes score:\",scores.mean())\n",
    "\n",
    "scores = cross_validation.cross_val_score(clf5, titanic[predictors], titanic[\"Survived\"], cv=kf)\n",
    "print(\"SVM accuracy score:\",scores.mean())"
   ]
  },
  {
   "cell_type": "markdown",
   "metadata": {},
   "source": [
    "No improvements. NB and SVM didn't make any improvement.\n",
    "\n",
    "Now, we're going to fit the model for submission (using Random Forest classifier), make predictions with the test data, generate the csv output, and submit."
   ]
  },
  {
   "cell_type": "code",
   "execution_count": 24,
   "metadata": {
    "collapsed": false
   },
   "outputs": [],
   "source": [
    "titanic_test[\"NameLength\"] = titanic_test[\"Name\"].apply(lambda x: len(x))\n",
    "\n",
    "clf3.fit(titanic[predictors], titanic[\"Survived\"])\n",
    "predictions = clf3.predict(titanic_test[predictors])\n",
    "\n",
    "from sklearn.metrics import accuracy_score\n",
    "\n",
    "# Create a new dataframe with only the columns Kaggle wants from the dataset.\n",
    "submission = pd.DataFrame({\n",
    "        \"PassengerId\": titanic_test[\"PassengerId\"],\n",
    "        \"Survived\": predictions\n",
    "    })\n",
    "submission.to_csv(\"kaggle.csv\", index=False)"
   ]
  },
  {
   "cell_type": "markdown",
   "metadata": {},
   "source": [
    "Possible next steps:\n",
    "    * improve age missing values replacement\n",
    "    * derivate new features (for instance, passenger title)\n",
    "    * Try gradient boosting classifier. One of the most successfull classifier in kaggle competitions."
   ]
  },
  {
   "cell_type": "code",
   "execution_count": null,
   "metadata": {
    "collapsed": true
   },
   "outputs": [],
   "source": []
  }
 ],
 "metadata": {
  "kernelspec": {
   "display_name": "Python 3",
   "language": "python",
   "name": "python3"
  },
  "language_info": {
   "codemirror_mode": {
    "name": "ipython",
    "version": 3
   },
   "file_extension": ".py",
   "mimetype": "text/x-python",
   "name": "python",
   "nbconvert_exporter": "python",
   "pygments_lexer": "ipython3",
   "version": "3.5.2"
  }
 },
 "nbformat": 4,
 "nbformat_minor": 0
}

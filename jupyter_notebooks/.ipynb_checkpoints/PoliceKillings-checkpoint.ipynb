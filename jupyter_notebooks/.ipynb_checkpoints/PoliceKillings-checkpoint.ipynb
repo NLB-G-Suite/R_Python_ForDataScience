{
 "cells": [
  {
   "cell_type": "markdown",
   "metadata": {},
   "source": [
    "** Exploring the Police Killings dataset assembled by the FiveThirtyEight team. **\n",
    "\n",
    "Description from the DataQuest team: \"Due in part to recent high-profile shootings of civilians by police in the US, the media and public have been scrutinizing police killings heavily. If you browse social media and news sites, you may get the sense that there's been a large uptick in civilian shootings by police in the US.\"\n",
    "\n",
    "The police killings data represent the year of **2015**.\n",
    "\n",
    "For more information about the columns and how they gathered the data, refer to the following links: https://github.com/fivethirtyeight/data/tree/master/police-killings\n",
    "\n",
    "http://fivethirtyeight.com/features/where-police-have-killed-americans-in-2015/\n"
   ]
  },
  {
   "cell_type": "code",
   "execution_count": 2,
   "metadata": {
    "collapsed": false
   },
   "outputs": [
    {
     "data": {
      "text/html": [
       "<div>\n",
       "<table border=\"1\" class=\"dataframe\">\n",
       "  <thead>\n",
       "    <tr style=\"text-align: right;\">\n",
       "      <th></th>\n",
       "      <th>day</th>\n",
       "      <th>year</th>\n",
       "      <th>latitude</th>\n",
       "      <th>longitude</th>\n",
       "      <th>state_fp</th>\n",
       "      <th>county_fp</th>\n",
       "      <th>tract_ce</th>\n",
       "      <th>geo_id</th>\n",
       "      <th>county_id</th>\n",
       "      <th>pop</th>\n",
       "      <th>h_income</th>\n",
       "      <th>county_income</th>\n",
       "      <th>comp_income</th>\n",
       "      <th>county_bucket</th>\n",
       "      <th>nat_bucket</th>\n",
       "      <th>urate</th>\n",
       "      <th>college</th>\n",
       "    </tr>\n",
       "  </thead>\n",
       "  <tbody>\n",
       "    <tr>\n",
       "      <th>count</th>\n",
       "      <td>467.000000</td>\n",
       "      <td>467.0</td>\n",
       "      <td>467.000000</td>\n",
       "      <td>467.000000</td>\n",
       "      <td>467.000000</td>\n",
       "      <td>467.000000</td>\n",
       "      <td>467.000000</td>\n",
       "      <td>4.670000e+02</td>\n",
       "      <td>467.000000</td>\n",
       "      <td>467.000000</td>\n",
       "      <td>465.000000</td>\n",
       "      <td>467.000000</td>\n",
       "      <td>465.000000</td>\n",
       "      <td>440.000000</td>\n",
       "      <td>465.000000</td>\n",
       "      <td>465.000000</td>\n",
       "      <td>465.000000</td>\n",
       "    </tr>\n",
       "    <tr>\n",
       "      <th>mean</th>\n",
       "      <td>15.830835</td>\n",
       "      <td>2015.0</td>\n",
       "      <td>36.403224</td>\n",
       "      <td>-96.972666</td>\n",
       "      <td>25.342612</td>\n",
       "      <td>91.584582</td>\n",
       "      <td>236936.614561</td>\n",
       "      <td>2.543443e+10</td>\n",
       "      <td>25434.197002</td>\n",
       "      <td>4783.719486</td>\n",
       "      <td>46627.182796</td>\n",
       "      <td>52527.331906</td>\n",
       "      <td>0.895913</td>\n",
       "      <td>2.497727</td>\n",
       "      <td>2.496774</td>\n",
       "      <td>0.117399</td>\n",
       "      <td>0.220217</td>\n",
       "    </tr>\n",
       "    <tr>\n",
       "      <th>std</th>\n",
       "      <td>8.658970</td>\n",
       "      <td>0.0</td>\n",
       "      <td>5.193357</td>\n",
       "      <td>16.953842</td>\n",
       "      <td>16.766458</td>\n",
       "      <td>110.185129</td>\n",
       "      <td>341262.721715</td>\n",
       "      <td>1.680140e+10</td>\n",
       "      <td>16801.379755</td>\n",
       "      <td>2374.565749</td>\n",
       "      <td>20511.194907</td>\n",
       "      <td>12948.263811</td>\n",
       "      <td>0.333584</td>\n",
       "      <td>1.393115</td>\n",
       "      <td>1.298412</td>\n",
       "      <td>0.069175</td>\n",
       "      <td>0.158347</td>\n",
       "    </tr>\n",
       "    <tr>\n",
       "      <th>min</th>\n",
       "      <td>1.000000</td>\n",
       "      <td>2015.0</td>\n",
       "      <td>19.915194</td>\n",
       "      <td>-159.642700</td>\n",
       "      <td>1.000000</td>\n",
       "      <td>1.000000</td>\n",
       "      <td>100.000000</td>\n",
       "      <td>1.003010e+09</td>\n",
       "      <td>1003.000000</td>\n",
       "      <td>0.000000</td>\n",
       "      <td>10290.000000</td>\n",
       "      <td>22545.000000</td>\n",
       "      <td>0.184049</td>\n",
       "      <td>1.000000</td>\n",
       "      <td>1.000000</td>\n",
       "      <td>0.011335</td>\n",
       "      <td>0.013547</td>\n",
       "    </tr>\n",
       "    <tr>\n",
       "      <th>25%</th>\n",
       "      <td>8.000000</td>\n",
       "      <td>2015.0</td>\n",
       "      <td>33.335240</td>\n",
       "      <td>-111.954636</td>\n",
       "      <td>8.000000</td>\n",
       "      <td>29.000000</td>\n",
       "      <td>5201.500000</td>\n",
       "      <td>8.022008e+09</td>\n",
       "      <td>8022.000000</td>\n",
       "      <td>3357.500000</td>\n",
       "      <td>32625.000000</td>\n",
       "      <td>43804.000000</td>\n",
       "      <td>0.645365</td>\n",
       "      <td>1.000000</td>\n",
       "      <td>1.000000</td>\n",
       "      <td>0.068592</td>\n",
       "      <td>0.106167</td>\n",
       "    </tr>\n",
       "    <tr>\n",
       "      <th>50%</th>\n",
       "      <td>16.000000</td>\n",
       "      <td>2015.0</td>\n",
       "      <td>35.769779</td>\n",
       "      <td>-94.761902</td>\n",
       "      <td>24.000000</td>\n",
       "      <td>63.000000</td>\n",
       "      <td>40200.000000</td>\n",
       "      <td>2.403380e+10</td>\n",
       "      <td>24033.000000</td>\n",
       "      <td>4447.000000</td>\n",
       "      <td>42759.000000</td>\n",
       "      <td>50856.000000</td>\n",
       "      <td>0.869612</td>\n",
       "      <td>2.000000</td>\n",
       "      <td>2.000000</td>\n",
       "      <td>0.105181</td>\n",
       "      <td>0.169544</td>\n",
       "    </tr>\n",
       "    <tr>\n",
       "      <th>75%</th>\n",
       "      <td>23.000000</td>\n",
       "      <td>2015.0</td>\n",
       "      <td>39.937452</td>\n",
       "      <td>-82.961582</td>\n",
       "      <td>40.000000</td>\n",
       "      <td>111.000000</td>\n",
       "      <td>378450.000000</td>\n",
       "      <td>4.011247e+10</td>\n",
       "      <td>40112.000000</td>\n",
       "      <td>5815.500000</td>\n",
       "      <td>56190.000000</td>\n",
       "      <td>56832.000000</td>\n",
       "      <td>1.081454</td>\n",
       "      <td>4.000000</td>\n",
       "      <td>3.000000</td>\n",
       "      <td>0.140833</td>\n",
       "      <td>0.284542</td>\n",
       "    </tr>\n",
       "    <tr>\n",
       "      <th>max</th>\n",
       "      <td>31.000000</td>\n",
       "      <td>2015.0</td>\n",
       "      <td>61.218408</td>\n",
       "      <td>-68.100007</td>\n",
       "      <td>56.000000</td>\n",
       "      <td>740.000000</td>\n",
       "      <td>980000.000000</td>\n",
       "      <td>5.600500e+10</td>\n",
       "      <td>56005.000000</td>\n",
       "      <td>26826.000000</td>\n",
       "      <td>142500.000000</td>\n",
       "      <td>110292.000000</td>\n",
       "      <td>2.865216</td>\n",
       "      <td>5.000000</td>\n",
       "      <td>5.000000</td>\n",
       "      <td>0.507614</td>\n",
       "      <td>0.828070</td>\n",
       "    </tr>\n",
       "  </tbody>\n",
       "</table>\n",
       "</div>"
      ],
      "text/plain": [
       "              day    year    latitude   longitude    state_fp   county_fp  \\\n",
       "count  467.000000   467.0  467.000000  467.000000  467.000000  467.000000   \n",
       "mean    15.830835  2015.0   36.403224  -96.972666   25.342612   91.584582   \n",
       "std      8.658970     0.0    5.193357   16.953842   16.766458  110.185129   \n",
       "min      1.000000  2015.0   19.915194 -159.642700    1.000000    1.000000   \n",
       "25%      8.000000  2015.0   33.335240 -111.954636    8.000000   29.000000   \n",
       "50%     16.000000  2015.0   35.769779  -94.761902   24.000000   63.000000   \n",
       "75%     23.000000  2015.0   39.937452  -82.961582   40.000000  111.000000   \n",
       "max     31.000000  2015.0   61.218408  -68.100007   56.000000  740.000000   \n",
       "\n",
       "            tract_ce        geo_id     county_id           pop       h_income  \\\n",
       "count     467.000000  4.670000e+02    467.000000    467.000000     465.000000   \n",
       "mean   236936.614561  2.543443e+10  25434.197002   4783.719486   46627.182796   \n",
       "std    341262.721715  1.680140e+10  16801.379755   2374.565749   20511.194907   \n",
       "min       100.000000  1.003010e+09   1003.000000      0.000000   10290.000000   \n",
       "25%      5201.500000  8.022008e+09   8022.000000   3357.500000   32625.000000   \n",
       "50%     40200.000000  2.403380e+10  24033.000000   4447.000000   42759.000000   \n",
       "75%    378450.000000  4.011247e+10  40112.000000   5815.500000   56190.000000   \n",
       "max    980000.000000  5.600500e+10  56005.000000  26826.000000  142500.000000   \n",
       "\n",
       "       county_income  comp_income  county_bucket  nat_bucket       urate  \\\n",
       "count     467.000000   465.000000     440.000000  465.000000  465.000000   \n",
       "mean    52527.331906     0.895913       2.497727    2.496774    0.117399   \n",
       "std     12948.263811     0.333584       1.393115    1.298412    0.069175   \n",
       "min     22545.000000     0.184049       1.000000    1.000000    0.011335   \n",
       "25%     43804.000000     0.645365       1.000000    1.000000    0.068592   \n",
       "50%     50856.000000     0.869612       2.000000    2.000000    0.105181   \n",
       "75%     56832.000000     1.081454       4.000000    3.000000    0.140833   \n",
       "max    110292.000000     2.865216       5.000000    5.000000    0.507614   \n",
       "\n",
       "          college  \n",
       "count  465.000000  \n",
       "mean     0.220217  \n",
       "std      0.158347  \n",
       "min      0.013547  \n",
       "25%      0.106167  \n",
       "50%      0.169544  \n",
       "75%      0.284542  \n",
       "max      0.828070  "
      ]
     },
     "execution_count": 2,
     "metadata": {},
     "output_type": "execute_result"
    }
   ],
   "source": [
    "import pandas as pd\n",
    "import matplotlib.pyplot as plt\n",
    "%matplotlib inline\n",
    "\n",
    "police_killings = pd.read_csv(\"police_killings.csv\", encoding=\"ISO-8859-1\")\n",
    "\n",
    "police_killings.describe()"
   ]
  },
  {
   "cell_type": "code",
   "execution_count": 44,
   "metadata": {
    "collapsed": false
   },
   "outputs": [
    {
     "data": {
      "text/html": [
       "<div>\n",
       "<table border=\"1\" class=\"dataframe\">\n",
       "  <thead>\n",
       "    <tr style=\"text-align: right;\">\n",
       "      <th></th>\n",
       "      <th>name</th>\n",
       "      <th>age</th>\n",
       "      <th>gender</th>\n",
       "      <th>raceethnicity</th>\n",
       "      <th>month</th>\n",
       "      <th>day</th>\n",
       "      <th>year</th>\n",
       "      <th>streetaddress</th>\n",
       "      <th>city</th>\n",
       "      <th>state</th>\n",
       "      <th>...</th>\n",
       "      <th>share_hispanic</th>\n",
       "      <th>p_income</th>\n",
       "      <th>h_income</th>\n",
       "      <th>county_income</th>\n",
       "      <th>comp_income</th>\n",
       "      <th>county_bucket</th>\n",
       "      <th>nat_bucket</th>\n",
       "      <th>pov</th>\n",
       "      <th>urate</th>\n",
       "      <th>college</th>\n",
       "    </tr>\n",
       "  </thead>\n",
       "  <tbody>\n",
       "    <tr>\n",
       "      <th>0</th>\n",
       "      <td>A'donte Washington</td>\n",
       "      <td>16</td>\n",
       "      <td>Male</td>\n",
       "      <td>Black</td>\n",
       "      <td>February</td>\n",
       "      <td>23</td>\n",
       "      <td>2015</td>\n",
       "      <td>Clearview Ln</td>\n",
       "      <td>Millbrook</td>\n",
       "      <td>AL</td>\n",
       "      <td>...</td>\n",
       "      <td>5.6</td>\n",
       "      <td>28375</td>\n",
       "      <td>51367.0</td>\n",
       "      <td>54766</td>\n",
       "      <td>0.937936</td>\n",
       "      <td>3.0</td>\n",
       "      <td>3.0</td>\n",
       "      <td>14.1</td>\n",
       "      <td>0.097686</td>\n",
       "      <td>0.168510</td>\n",
       "    </tr>\n",
       "    <tr>\n",
       "      <th>1</th>\n",
       "      <td>Aaron Rutledge</td>\n",
       "      <td>27</td>\n",
       "      <td>Male</td>\n",
       "      <td>White</td>\n",
       "      <td>April</td>\n",
       "      <td>2</td>\n",
       "      <td>2015</td>\n",
       "      <td>300 block Iris Park Dr</td>\n",
       "      <td>Pineville</td>\n",
       "      <td>LA</td>\n",
       "      <td>...</td>\n",
       "      <td>0.5</td>\n",
       "      <td>14678</td>\n",
       "      <td>27972.0</td>\n",
       "      <td>40930</td>\n",
       "      <td>0.683411</td>\n",
       "      <td>2.0</td>\n",
       "      <td>1.0</td>\n",
       "      <td>28.8</td>\n",
       "      <td>0.065724</td>\n",
       "      <td>0.111402</td>\n",
       "    </tr>\n",
       "    <tr>\n",
       "      <th>2</th>\n",
       "      <td>Aaron Siler</td>\n",
       "      <td>26</td>\n",
       "      <td>Male</td>\n",
       "      <td>White</td>\n",
       "      <td>March</td>\n",
       "      <td>14</td>\n",
       "      <td>2015</td>\n",
       "      <td>22nd Ave and 56th St</td>\n",
       "      <td>Kenosha</td>\n",
       "      <td>WI</td>\n",
       "      <td>...</td>\n",
       "      <td>16.8</td>\n",
       "      <td>25286</td>\n",
       "      <td>45365.0</td>\n",
       "      <td>54930</td>\n",
       "      <td>0.825869</td>\n",
       "      <td>2.0</td>\n",
       "      <td>3.0</td>\n",
       "      <td>14.6</td>\n",
       "      <td>0.166293</td>\n",
       "      <td>0.147312</td>\n",
       "    </tr>\n",
       "  </tbody>\n",
       "</table>\n",
       "<p>3 rows × 34 columns</p>\n",
       "</div>"
      ],
      "text/plain": [
       "                 name age gender raceethnicity     month  day  year  \\\n",
       "0  A'donte Washington  16   Male         Black  February   23  2015   \n",
       "1      Aaron Rutledge  27   Male         White     April    2  2015   \n",
       "2         Aaron Siler  26   Male         White     March   14  2015   \n",
       "\n",
       "            streetaddress       city state    ...     share_hispanic  \\\n",
       "0            Clearview Ln  Millbrook    AL    ...                5.6   \n",
       "1  300 block Iris Park Dr  Pineville    LA    ...                0.5   \n",
       "2    22nd Ave and 56th St    Kenosha    WI    ...               16.8   \n",
       "\n",
       "   p_income  h_income  county_income  comp_income  county_bucket  nat_bucket  \\\n",
       "0     28375   51367.0          54766     0.937936            3.0         3.0   \n",
       "1     14678   27972.0          40930     0.683411            2.0         1.0   \n",
       "2     25286   45365.0          54930     0.825869            2.0         3.0   \n",
       "\n",
       "    pov     urate   college  \n",
       "0  14.1  0.097686  0.168510  \n",
       "1  28.8  0.065724  0.111402  \n",
       "2  14.6  0.166293  0.147312  \n",
       "\n",
       "[3 rows x 34 columns]"
      ]
     },
     "execution_count": 44,
     "metadata": {},
     "output_type": "execute_result"
    }
   ],
   "source": [
    "police_killings.head(3)"
   ]
  },
  {
   "cell_type": "code",
   "execution_count": 45,
   "metadata": {
    "collapsed": false
   },
   "outputs": [
    {
     "name": "stdout",
     "output_type": "stream",
     "text": [
      "# Rows: 467\n",
      "# Columns: 34\n"
     ]
    }
   ],
   "source": [
    "print(\"# Rows:\",police_killings.shape[0])\n",
    "print(\"# Columns:\",police_killings.shape[1])"
   ]
  },
  {
   "cell_type": "markdown",
   "metadata": {},
   "source": [
    "** Killings by reace/ethnicity: **\n",
    "\n",
    "This is piece of cake with the value_counts() method from pandas library. We just have to call value_counts():"
   ]
  },
  {
   "cell_type": "code",
   "execution_count": 3,
   "metadata": {
    "collapsed": false
   },
   "outputs": [],
   "source": [
    "killings_race = police_killings[\"raceethnicity\"].value_counts()"
   ]
  },
  {
   "cell_type": "code",
   "execution_count": 4,
   "metadata": {
    "collapsed": false
   },
   "outputs": [
    {
     "data": {
      "text/plain": [
       "([<matplotlib.axis.XTick at 0x201607c4940>,\n",
       "  <matplotlib.axis.XTick at 0x201607c4fd0>,\n",
       "  <matplotlib.axis.XTick at 0x2016061e1d0>,\n",
       "  <matplotlib.axis.XTick at 0x2016080e860>,\n",
       "  <matplotlib.axis.XTick at 0x201608182b0>,\n",
       "  <matplotlib.axis.XTick at 0x20160818cc0>],\n",
       " <a list of 6 Text xticklabel objects>)"
      ]
     },
     "execution_count": 4,
     "metadata": {},
     "output_type": "execute_result"
    },
    {
     "data": {
      "image/png": "[encoded data removed]",
      "text/plain": [
       "<matplotlib.figure.Figure at 0x2016078e898>"
      ]
     },
     "metadata": {},
     "output_type": "display_data"
    }
   ],
   "source": [
    "plt.bar(range(6), killings_race)\n",
    "plt.xticks(range(6), killings_race.index, rotation=\"vertical\")"
   ]
  },
  {
   "cell_type": "markdown",
   "metadata": {},
   "source": [
    "At first sight, we've come to the conclusion that there's more white Americans killed by the police than any other race-ethny. Indeed, this is a correct conclusion. However, so far we are just looking the absolute numbers. We need to see the proportion of killings in each category over the entire population of each category.\n",
    "\n",
    "To analyze this issue we need to know the U.S. population racial breakdown. Let's refer to the wikipedia website:\n",
    "https://en.wikipedia.org/wiki/Race_and_ethnicity_in_the_United_States#Racial_and_ethnic_categories\n",
    "\n",
    "   * White alone: 72.4%\n",
    "   * Black or African American: 12.6%\n",
    "   * Asian: 4.8%\n",
    "   * American Indians and Alaska Natives: 0.9%\n",
    "   * Native Hawaiians and Other Pacific Islanders: 0.2%\n",
    "   * Two or more races: 2.9%\n",
    "   * Some other race: 6.2%\n",
    "\n",
    "   * Hispanic and Latino Americans (of any race): 16.3%\n",
    "   \n",
    "  ** Let's look to three most killed race/ethnicity (White, black, latino) **"
   ]
  },
  {
   "cell_type": "code",
   "execution_count": 5,
   "metadata": {
    "collapsed": false
   },
   "outputs": [
    {
     "data": {
      "text/plain": [
       "White                     50.535332\n",
       "Black                     28.907923\n",
       "Hispanic/Latino           14.346895\n",
       "Unknown                    3.211991\n",
       "Asian/Pacific Islander     2.141328\n",
       "Native American            0.856531\n",
       "Name: raceethnicity, dtype: float64"
      ]
     },
     "execution_count": 5,
     "metadata": {},
     "output_type": "execute_result"
    }
   ],
   "source": [
    "killings_proportion = killings_race / sum(killings_race)\n",
    "killings_proportion * 100"
   ]
  },
  {
   "cell_type": "code",
   "execution_count": 6,
   "metadata": {
    "collapsed": false
   },
   "outputs": [
    {
     "data": {
      "image/png": "[encoded data removed]",
      "text/plain": [
       "<matplotlib.figure.Figure at 0x2016086a5f8>"
      ]
     },
     "metadata": {},
     "output_type": "display_data"
    }
   ],
   "source": [
    "racial_proportion = pd.Series([72.4, 12.6, 16.3],index=['White', 'Black', 'Hispanic/Laitno']) # from wikipedia\n",
    "\n",
    "fig = plt.figure(figsize=(10,6))\n",
    "ax1 = fig.add_subplot(1,2,1)\n",
    "ax2 = fig.add_subplot(1,2,2)\n",
    "\n",
    "ax1.bar(range(3), racial_proportion, align='center')\n",
    "ax1.set_title('% of population')\n",
    "ax1.set_xticks(range(3))\n",
    "ax1.set_yticks(range(0,100,10))\n",
    "ax1.set_xticklabels(racial_proportion.index, rotation=90)\n",
    "#bar1.xticks(range(3), racial_proportion.index, rotation=\"vertical\")\n",
    "\n",
    "ax2.bar(range(3), killings_proportion[0:3] * 100, color='red', align='center')\n",
    "ax2.set_title('% police killings')\n",
    "ax2.set_yticks(range(0,100,10))\n",
    "ax2.set_xticks(range(3))\n",
    "ax2.set_xticklabels(killings_proportion[0:3].index, rotation=90)\n",
    "#bar2.xticks(range(3), killings_proportion[0:3].index, rotation=\"vertical\")\n",
    "\n",
    "plt.show()"
   ]
  },
  {
   "cell_type": "markdown",
   "metadata": {},
   "source": [
    "** So, we can clearly note that, in proportion, there are more black people being killed than white people in the U.S. White people represents more than 70% of the population and 50% of the police killings, whereas black people represents arount 10% of the population having 28% of police killings share. **"
   ]
  },
  {
   "cell_type": "code",
   "execution_count": null,
   "metadata": {
    "collapsed": true
   },
   "outputs": [],
   "source": [
    "fig = plt.figure(figsize=(10,6))\n",
    "ax = fig.add_subplot(1,1,1)\n",
    "\n",
    "locs = range(3)\n",
    "bar_width = 0.35\n",
    "offset_locs = locs + bar_width\n",
    "\n",
    "bar1 = ax.bar(left=locs, height=racial_proportion, width=bar_width)\n",
    "bar2 = ax.bar(left=offset_locs, height=killings_proportion[0:3]*100, width=bar_width, color='red')\n",
    "ax.set_title('% of population vs. % of police killings')\n",
    "ax.set_xticks(offset_locs)\n",
    "ax.set_xticklabels(racial_proportion.index, rotation=90)\n",
    "\n",
    "plt.legend((bar1, bar2), (\"% population\", \"% police killings\"),loc=\"upper right\")\n",
    "plt.grid()\n",
    "plt.show()"
   ]
  }
 ],
 "metadata": {
  "kernelspec": {
   "display_name": "Python 3",
   "language": "python",
   "name": "python3"
  },
  "language_info": {
   "codemirror_mode": {
    "name": "ipython",
    "version": 3
   },
   "file_extension": ".py",
   "mimetype": "text/x-python",
   "name": "python",
   "nbconvert_exporter": "python",
   "pygments_lexer": "ipython3",
   "version": "3.5.2"
  }
 },
 "nbformat": 4,
 "nbformat_minor": 0
}

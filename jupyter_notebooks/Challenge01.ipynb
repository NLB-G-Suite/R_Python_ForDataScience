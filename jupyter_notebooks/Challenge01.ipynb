{
 "cells": [
  {
   "cell_type": "markdown",
   "metadata": {
    "collapsed": true
   },
   "source": [
    "### Starting the project\n",
    " * Importing 'pandas'; \n",
    " * Reading/Loading the dataset;\n",
    " * knowing the shape; and\n",
    " * Taking a look in the very first\n",
    " row."
   ]
  },
  {
   "cell_type": "code",
   "execution_count": 58,
   "metadata": {
    "collapsed": false
   },
   "outputs": [
    {
     "name": "stdout",
     "output_type": "stream",
     "text": [
      "(474, 5)\n"
     ]
    }
   ],
   "source": [
    "import pandas as pd\n",
    "white_house = pd.read_csv(\"2015_white_house.csv\")\n",
    "print(white_house.shape)"
   ]
  },
  {
   "cell_type": "code",
   "execution_count": 59,
   "metadata": {
    "collapsed": false
   },
   "outputs": [
    {
     "name": "stdout",
     "output_type": "stream",
     "text": [
      "Name              Abdullah, Hasan A.\n",
      "Status                      Detailee\n",
      "Salary                        105960\n",
      "Pay Basis                  Per Annum\n",
      "Position Title        POLICY ADVISOR\n",
      "Name: 0, dtype: object\n"
     ]
    }
   ],
   "source": [
    "print(white_house.iloc[0])"
   ]
  },
  {
   "cell_type": "markdown",
   "metadata": {},
   "source": [
    "** Just a sample plotting using matploplib **\n",
    "Plotting the white house employees' salary."
   ]
  },
  {
   "cell_type": "code",
   "execution_count": 60,
   "metadata": {
    "collapsed": false
   },
   "outputs": [
    {
     "data": {
      "image/png": "[encoded data removed]",
      "text/plain": [
       "<matplotlib.figure.Figure at 0x20853d0f0f0>"
      ]
     },
     "metadata": {},
     "output_type": "display_data"
    }
   ],
   "source": [
    "%matplotlib inline\n",
    "import matplotlib.pyplot as plt\n",
    "plt.hist(white_house[\"Salary\"])\n",
    "plt.show()"
   ]
  },
  {
   "cell_type": "markdown",
   "metadata": {},
   "source": [
    "This is the maximum salary in the white house (2015):"
   ]
  },
  {
   "cell_type": "code",
   "execution_count": 61,
   "metadata": {
    "collapsed": false
   },
   "outputs": [
    {
     "name": "stdout",
     "output_type": "stream",
     "text": [
      "173922\n"
     ]
    }
   ],
   "source": [
    "print(white_house[\"Salary\"].max())"
   ]
  },
  {
   "cell_type": "markdown",
   "metadata": {},
   "source": [
    "Guess who has the maximum salary?!"
   ]
  },
  {
   "cell_type": "code",
   "execution_count": 62,
   "metadata": {
    "collapsed": false
   },
   "outputs": [
    {
     "name": "stdout",
     "output_type": "stream",
     "text": [
      "Name                                         Breckenridge, Anita J.\n",
      "Status                                                     Employee\n",
      "Salary                                                       173922\n",
      "Pay Basis                                                 Per Annum\n",
      "Position Title    ASSISTANT TO THE PRESIDENT AND DEPUTY CHIEF OF...\n",
      "Name: 52, dtype: object\n"
     ]
    }
   ],
   "source": [
    "print(white_house.loc[white_house['Salary'].idxmax()])"
   ]
  },
  {
   "cell_type": "markdown",
   "metadata": {},
   "source": [
    "Well...Of course, someone closely related to the president. The president is not considered a white house employee."
   ]
  },
  {
   "cell_type": "code",
   "execution_count": 63,
   "metadata": {
    "collapsed": false
   },
   "outputs": [
    {
     "name": "stdout",
     "output_type": "stream",
     "text": [
      "Empty DataFrame\n",
      "Columns: [Name, Status, Salary, Pay Basis, Position Title]\n",
      "Index: []\n"
     ]
    }
   ],
   "source": [
    "print(white_house[white_house[\"Name\"].str.contains(\"Obama\")])"
   ]
  },
  {
   "cell_type": "markdown",
   "metadata": {},
   "source": [
    "And now, the guy who earns less money at the white house:"
   ]
  },
  {
   "cell_type": "code",
   "execution_count": 64,
   "metadata": {
    "collapsed": false
   },
   "outputs": [
    {
     "name": "stdout",
     "output_type": "stream",
     "text": [
      "Name                                    Leary, Kimberlyn R.\n",
      "Status                                             Employee\n",
      "Salary                                                    0\n",
      "Pay Basis                                         Per Annum\n",
      "Position Title    ADVISOR TO THE COUNCIL ON WOMEN AND GIRLS\n",
      "Name: 243, dtype: object\n"
     ]
    }
   ],
   "source": [
    "print(white_house.loc[white_house['Salary'].idxmin()])"
   ]
  },
  {
   "cell_type": "markdown",
   "metadata": {},
   "source": [
    "Yes... No salary... And that has raised a question. How many people does not have a salary at the white house?"
   ]
  },
  {
   "cell_type": "code",
   "execution_count": 65,
   "metadata": {
    "collapsed": false
   },
   "outputs": [
    {
     "name": "stdout",
     "output_type": "stream",
     "text": [
      "Name              2\n",
      "Status            2\n",
      "Salary            2\n",
      "Pay Basis         2\n",
      "Position Title    2\n",
      "dtype: int64\n"
     ]
    }
   ],
   "source": [
    "print(white_house[white_house['Salary'] == 0].count())"
   ]
  },
  {
   "cell_type": "markdown",
   "metadata": {},
   "source": [
    "Just two, so let's see who they are:"
   ]
  },
  {
   "cell_type": "code",
   "execution_count": 66,
   "metadata": {
    "collapsed": false
   },
   "outputs": [
    {
     "name": "stdout",
     "output_type": "stream",
     "text": [
      "                    Name    Status  Salary  Pay Basis  \\\n",
      "243  Leary, Kimberlyn R.  Employee       0  Per Annum   \n",
      "326        Park, Todd Y.  Employee       0  Per Annum   \n",
      "\n",
      "                                Position Title  \n",
      "243  ADVISOR TO THE COUNCIL ON WOMEN AND GIRLS  \n",
      "326                     ADVISOR FOR TECHNOLOGY  \n"
     ]
    }
   ],
   "source": [
    "print(white_house[white_house['Salary'] == 0])"
   ]
  },
  {
   "cell_type": "markdown",
   "metadata": {},
   "source": [
    "Maybe we are making a mistake. We've considered the maximum salary but without looking at the pay basis column. Perhaps there are employees earning higher salaries if sum up their monthly salaries. Let's check it out:"
   ]
  },
  {
   "cell_type": "code",
   "execution_count": 67,
   "metadata": {
    "collapsed": false
   },
   "outputs": [
    {
     "name": "stdout",
     "output_type": "stream",
     "text": [
      "Empty DataFrame\n",
      "Columns: [Name, Status, Salary, Pay Basis, Position Title]\n",
      "Index: []\n"
     ]
    }
   ],
   "source": [
    "print(white_house[white_house['Pay Basis'].str.contains(\"Month\")])"
   ]
  },
  {
   "cell_type": "code",
   "execution_count": 68,
   "metadata": {
    "collapsed": false
   },
   "outputs": [
    {
     "name": "stdout",
     "output_type": "stream",
     "text": [
      "Name              474\n",
      "Status            474\n",
      "Salary            474\n",
      "Pay Basis         474\n",
      "Position Title    474\n",
      "dtype: int64\n"
     ]
    }
   ],
   "source": [
    "print(white_house[white_house['Pay Basis']==\"Per Annum\"].count())"
   ]
  },
  {
   "cell_type": "markdown",
   "metadata": {},
   "source": [
    "Indeed, everybody in the dataset has an informed salary per annum."
   ]
  },
  {
   "cell_type": "code",
   "execution_count": null,
   "metadata": {
    "collapsed": true
   },
   "outputs": [],
   "source": []
  }
 ],
 "metadata": {
  "kernelspec": {
   "display_name": "Python 3",
   "language": "python",
   "name": "python3"
  },
  "language_info": {
   "codemirror_mode": {
    "name": "ipython",
    "version": 3
   },
   "file_extension": ".py",
   "mimetype": "text/x-python",
   "name": "python",
   "nbconvert_exporter": "python",
   "pygments_lexer": "ipython3",
   "version": "3.5.1"
  }
 },
 "nbformat": 4,
 "nbformat_minor": 0
}
